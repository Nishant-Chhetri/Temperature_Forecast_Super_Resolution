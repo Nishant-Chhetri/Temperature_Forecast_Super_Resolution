{
 "cells": [
  {
   "cell_type": "markdown",
   "metadata": {},
   "source": [
    "# Importing Libraries"
   ]
  },
  {
   "cell_type": "code",
   "execution_count": 2,
   "metadata": {},
   "outputs": [
    {
     "name": "stderr",
     "output_type": "stream",
     "text": [
      "Using Theano backend.\n"
     ]
    }
   ],
   "source": [
    "#Importing required Libraries\n",
    "\n",
    "import theano\n",
    "import theano.tensor as T\n",
    "from theano.tensor import _shared\n",
    "import os\n",
    "os.environ['KERAS_BACKEND'] = 'theano'\n",
    "import numpy as np \n",
    "np.random.seed(0)\n",
    "import matplotlib.pyplot as plt\n",
    "import pandas as pd\n",
    "import pickle\n",
    "import time\n",
    "from keras_contrib.losses import DSSIMObjective \n",
    "from keras import backend as K\n",
    "from keras import layers\n",
    "from keras.layers import Input,Dropout, Add, Dense, Activation, ZeroPadding2D, BatchNormalization, Flatten, Conv2D, AveragePooling2D, MaxPooling2D, GlobalMaxPooling2D\n",
    "from keras.models import Model, load_model\n",
    "from keras.preprocessing import image\n",
    "from keras.initializers import glorot_uniform"
   ]
  },
  {
   "cell_type": "markdown",
   "metadata": {},
   "source": [
    "# Preparing to Load Data"
   ]
  },
  {
   "cell_type": "code",
   "execution_count": 8,
   "metadata": {},
   "outputs": [],
   "source": [
    "#Creating a list of names of input_training data for training \n",
    "\n",
    "id_name1 = 'data/input_training_'\n",
    "id_name2 = '00_'\n",
    "id_name3 = '99.npy'\n",
    "train_names_inputs=[]\n",
    "for i in range(0,51):\n",
    "    if i<10:\n",
    "        value='0'+str(i)\n",
    "    else:\n",
    "        value=str(i)\n",
    "    input_data_name = id_name1+value+id_name2+value+id_name3\n",
    "    train_names_inputs.append(input_data_name)"
   ]
  },
  {
   "cell_type": "code",
   "execution_count": 9,
   "metadata": {},
   "outputs": [],
   "source": [
    "#Creating a list of names of input_training data for validation\n",
    "\n",
    "id_name1 = 'data/input_training_'\n",
    "id_name2 = '00_'\n",
    "id_name3 = '99.npy'\n",
    "\n",
    "val_names_inputs=[]\n",
    "for i in range(51,53):\n",
    "    if i<10:\n",
    "        value='0'+str(i)\n",
    "    else:\n",
    "        value=str(i)\n",
    "    input_data_name = id_name1+value+id_name2+value+id_name3\n",
    "    val_names_inputs.append(input_data_name)\n",
    "    \n",
    "val_names_inputs.append('data/input_training_5300_5342.npy')"
   ]
  },
  {
   "cell_type": "code",
   "execution_count": 10,
   "metadata": {},
   "outputs": [],
   "source": [
    "#Creating a list of names of label_training data for training\n",
    "\n",
    "id_name1 = 'data/label_training_'\n",
    "id_name2 = '00_'\n",
    "id_name3 = '99.npy'\n",
    "train_names_labels=[]\n",
    "for i in range(0,51):\n",
    "    if i<10:\n",
    "        value='0'+str(i)\n",
    "    else:\n",
    "        value=str(i)\n",
    "    input_data_name = id_name1+value+id_name2+value+id_name3\n",
    "    train_names_labels.append(input_data_name)"
   ]
  },
  {
   "cell_type": "code",
   "execution_count": 11,
   "metadata": {},
   "outputs": [],
   "source": [
    "#Creating a list of names of label_training for validation\n",
    "\n",
    "id_name1 = 'data/label_training_'\n",
    "id_name2 = '00_'\n",
    "id_name3 = '99.npy'\n",
    "\n",
    "val_names_labels=[]\n",
    "for i in range(51,53):\n",
    "    if i<10:\n",
    "        value='0'+str(i)\n",
    "    else:\n",
    "        value=str(i)\n",
    "    input_data_name = id_name1+value+id_name2+value+id_name3\n",
    "    val_names_labels.append(input_data_name)\n",
    "    \n",
    "val_names_labels.append('data/label_training_5300_5342.npy')"
   ]
  },
  {
   "cell_type": "code",
   "execution_count": 12,
   "metadata": {},
   "outputs": [],
   "source": [
    "#A dictionary to store names of train and validation files for input and label\n",
    "\n",
    "partition={}\n",
    "partition['train_input']=train_names_inputs\n",
    "partition['val_input']=val_names_inputs\n",
    "partition['train_label']=train_names_labels\n",
    "partition['val_label']=val_names_labels"
   ]
  },
  {
   "cell_type": "code",
   "execution_count": 8,
   "metadata": {},
   "outputs": [],
   "source": [
    "def standardize(X):         # A Function to normalize the dataset for better training results.      \n",
    "    newX = (X-np.mean(X))/(np.std(X))\n",
    "    return(newX)\n",
    "\n",
    "\n",
    "def load_data(input_name,label_name):  #A Function to load data, reshape it by transpose and apply normalization\n",
    "    \n",
    "    x = np.load(input_name)\n",
    "    y = np.load(label_name)\n",
    "    \n",
    "    xt = np.transpose(x, (0,2,3,1)) \n",
    "    yt = np.transpose(y, (0,2,3,1))\n",
    "    \n",
    "    xts=standardize(xt)\n",
    "    yts=standardize(yt)\n",
    "        \n",
    "    return(xts,yts)"
   ]
  },
  {
   "cell_type": "markdown",
   "metadata": {},
   "source": [
    "# Score Functions"
   ]
  },
  {
   "cell_type": "code",
   "execution_count": 4,
   "metadata": {},
   "outputs": [],
   "source": [
    "def meanDifferenceCalculation(img1, img2):     #To calculate mean difference of images\n",
    "    img1_mean = T.mean(img1)\n",
    "    img2_mean = T.mean(img2)\n",
    "    return(T.abs_(img1_mean - img2_mean))\n",
    "\n",
    "def minDifferenceCalculation(img1, img2):    #To calculate min difference of images\n",
    "    img1_min = T.min(img1)\n",
    "    img2_min = T.min(img2)\n",
    "    return(T.abs_(img1_min - img2_min))\n",
    "\n",
    "def maxDifferenceCalculation(img1, img2):     #To calculate max difference of images\n",
    "    img1_max = T.max(img1)\n",
    "    img2_max = T.max(img2)\n",
    "    return(T.abs_(img1_max - img2_max))\n",
    "\n",
    "def scoreCalculation(img1_T, img2_T):        #To calculate the combined score Fuction\n",
    "    \n",
    "    #DSSIMObjective is a loss fuction from keras_contrib module. \n",
    "    loss_func = DSSIMObjective(kernel_size=4)     #kernel_size should be a factor of image_pixel ie. 4 is factor of 256\n",
    "    dssim = loss_func(img1_T,img2_T)              #Calculating the loss.\n",
    "    \n",
    "    ssim = 1-(2*dssim)    #Getting ssim from dssim value                       \n",
    "    \n",
    "    #mean squared error\n",
    "    mse = T.mean(T.sqr(img1_T-img2_T))\n",
    "    \n",
    "    #mean,min,max\n",
    "    meanDifference = meanDifferenceCalculation(img1_T, img2_T)\n",
    "    minDifference = minDifferenceCalculation(img1_T, img2_T)\n",
    "    maxDifference = maxDifferenceCalculation(img1_T, img2_T)\n",
    "    \n",
    "    #Score function\n",
    "    score = (2 - 2 * ssim) + mse + meanDifference + minDifference + maxDifference\n",
    "\n",
    "    return(score)"
   ]
  },
  {
   "cell_type": "markdown",
   "metadata": {},
   "source": [
    "# CONVNET ARCHITECTURE"
   ]
  },
  {
   "cell_type": "code",
   "execution_count": 15,
   "metadata": {},
   "outputs": [],
   "source": [
    "def MODEL(input_shape=(256,256,15)):   #Convolutional Neural Network Architechture\n",
    "    \n",
    "    input_X=Input(input_shape)\n",
    "    X = Conv2D(16, (3, 3), strides = (1, 1),padding='same', name = 'conv1', kernel_initializer = glorot_uniform(seed=1))(input_X)\n",
    "    X = BatchNormalization(axis = 3, name = 'bn_conv1')(X)\n",
    "    X = Activation('relu')(X)\n",
    "    X = Conv2D(1, (3, 3), strides = (1, 1),padding='same', name = 'conv2', kernel_initializer = glorot_uniform(seed=1))(X)\n",
    "    X = BatchNormalization(axis = 3, name = 'bn_conv2')(X)\n",
    "    X = Activation('relu')(X)\n",
    "    model = Model (inputs = input_X , outputs= X, name= 'Simple_Sr')\n",
    "    \n",
    "    return(model)\n",
    "    "
   ]
  },
  {
   "cell_type": "code",
   "execution_count": 16,
   "metadata": {},
   "outputs": [],
   "source": [
    "model = MODEL(input_shape = (256, 256, 15))"
   ]
  },
  {
   "cell_type": "code",
   "execution_count": 17,
   "metadata": {},
   "outputs": [
    {
     "name": "stdout",
     "output_type": "stream",
     "text": [
      "_________________________________________________________________\n",
      "Layer (type)                 Output Shape              Param #   \n",
      "=================================================================\n",
      "input_1 (InputLayer)         (None, 256, 256, 15)      0         \n",
      "_________________________________________________________________\n",
      "conv1 (Conv2D)               (None, 256, 256, 16)      2176      \n",
      "_________________________________________________________________\n",
      "bn_conv1 (BatchNormalization (None, 256, 256, 16)      64        \n",
      "_________________________________________________________________\n",
      "activation_1 (Activation)    (None, 256, 256, 16)      0         \n",
      "_________________________________________________________________\n",
      "conv2 (Conv2D)               (None, 256, 256, 1)       145       \n",
      "_________________________________________________________________\n",
      "bn_conv2 (BatchNormalization (None, 256, 256, 1)       4         \n",
      "_________________________________________________________________\n",
      "activation_2 (Activation)    (None, 256, 256, 1)       0         \n",
      "=================================================================\n",
      "Total params: 2,389\n",
      "Trainable params: 2,355\n",
      "Non-trainable params: 34\n",
      "_________________________________________________________________\n"
     ]
    }
   ],
   "source": [
    "model.summary()"
   ]
  },
  {
   "cell_type": "code",
   "execution_count": 18,
   "metadata": {},
   "outputs": [],
   "source": [
    "model.compile(optimizer='adam', loss='mean_squared_error', metrics=[scoreCalculation])"
   ]
  },
  {
   "cell_type": "code",
   "execution_count": null,
   "metadata": {},
   "outputs": [],
   "source": [
    "%%time\n",
    "hist1 = []\n",
    "hist_val = []\n",
    "for epoch in range(7):                                   #Loop for running epochs (Here:I trained for 7 epochs)\n",
    "    print('EPOCH NUMBER:',epoch+1)\n",
    "    for i in range(len(partition['train_input'])):        #Training each file at a time\n",
    "        x,y = load_data(partition['train_input'][i],partition['train_label'][i])\n",
    "        hist = model.fit(x, y, epochs=1, batch_size=16)\n",
    "        hist1.append(hist.history)\n",
    "        \n",
    "    \n",
    "    for i in range(len(partition['val_input'])):         #Validation of last 3 files\n",
    "        x,y = load_data(partition['val_input'][i],partition['val_label'][i])\n",
    "        hist = model.evaluate(x, y)\n",
    "        hist_val.append(hist)\n",
    "        \n",
    "\n",
    "#with open('history_epoch_7', 'wb') as f:        #For saving training history\n",
    "#    pickle.dump(hist1, f)\n",
    "#with open('history_val', 'wb') as f:            #For saving validation history\n",
    "#    pickle.dump(hist_val, f)\n",
    "#model.save('Model_epoch_7.h5')                 #For saving the model"
   ]
  },
  {
   "cell_type": "markdown",
   "metadata": {},
   "source": [
    "# Plotting Train and Validation (score and loss)"
   ]
  },
  {
   "cell_type": "code",
   "execution_count": 18,
   "metadata": {},
   "outputs": [],
   "source": [
    "#with open('history_epoch_7', 'rb') as f:   #Presaved train history\n",
    "#    hist1 = pickle.load(f)\n",
    "\n",
    "#with open('history_val','rb') as f:        #Presaved validation history\n",
    "#    hist_val = pickle.load(f)"
   ]
  },
  {
   "cell_type": "code",
   "execution_count": 19,
   "metadata": {},
   "outputs": [],
   "source": [
    "# Extracting Loss and Score from saved history of loss and score.\n",
    "\n",
    "loss=[]\n",
    "score=[]\n",
    "for dic in hist1:               \n",
    "    loss.append(dic['loss'])\n",
    "    score.append(dic['scoreCalculation'])"
   ]
  },
  {
   "cell_type": "code",
   "execution_count": 20,
   "metadata": {},
   "outputs": [],
   "source": [
    "#Averaging up score/loss to give score/loss for 1 epoch as training score is for each file individually.\n",
    "\n",
    "train_score=[]\n",
    "train_loss=[]\n",
    "for i in range(int(len(score)/51)):        #In simple words i=0 to 6 for 7 epochs. As 357/51 = 7 epochs where 357 = len(score)\n",
    "    single_epoch=score[i*51:(i+1)*51]      #Extracting batch of 51 score for each epoch of 51 files\n",
    "    train_score.append(np.mean(single_epoch))  #Appending mean of 51 scores(1 epoch) to train_score\n",
    "    \n",
    "    single_epoch_loss=loss[i*51:(i+1)*51]     #Doing same for loss\n",
    "    train_loss.append(np.mean(single_epoch_loss)) #Appending mean for loss"
   ]
  },
  {
   "cell_type": "code",
   "execution_count": 64,
   "metadata": {},
   "outputs": [
    {
     "data": {
      "image/png": "[encoded data removed]",
      "text/plain": [
       "<Figure size 432x288 with 1 Axes>"
      ]
     },
     "metadata": {
      "needs_background": "light"
     },
     "output_type": "display_data"
    }
   ],
   "source": [
    "plt.plot(train_score)\n",
    "plt.xlabel('number of epochs')\n",
    "plt.ylabel('Score metric')\n",
    "plt.title('Score metric on training data')\n",
    "plt.savefig('train_score.jpg')"
   ]
  },
  {
   "cell_type": "code",
   "execution_count": 65,
   "metadata": {},
   "outputs": [
    {
     "data": {
      "image/png": "[encoded data removed]",
      "text/plain": [
       "<Figure size 432x288 with 1 Axes>"
      ]
     },
     "metadata": {
      "needs_background": "light"
     },
     "output_type": "display_data"
    }
   ],
   "source": [
    "plt.plot(train_loss)\n",
    "plt.xlabel('number of epochs')\n",
    "plt.ylabel('mse loss')\n",
    "plt.title('MSE Loss on training data')\n",
    "plt.savefig('train_loss.jpg')"
   ]
  },
  {
   "cell_type": "code",
   "execution_count": 23,
   "metadata": {},
   "outputs": [],
   "source": [
    "#Averaging up score/loss for validation data to give score/loss for each epoch\n",
    "\n",
    "val_score=[]\n",
    "val_loss=[]\n",
    "for i in range(int(len(hist_val)/3)):       #In simple words i=0 to 6 for 7 epochs. As 21/3 = 7 epochs where 21 = len(hist_val) and 3=validation files\n",
    "    val_score.append(np.mean(score[i*3:(i+1)*3])) #Extracting batch of 3 scores for each epoch of 3 validation files\n",
    "    val_loss.append(np.mean(loss[i*3:(i+1)*3]))   #Doing same for loss"
   ]
  },
  {
   "cell_type": "code",
   "execution_count": 66,
   "metadata": {},
   "outputs": [
    {
     "data": {
      "image/png": "[encoded data removed]",
      "text/plain": [
       "<Figure size 432x288 with 1 Axes>"
      ]
     },
     "metadata": {
      "needs_background": "light"
     },
     "output_type": "display_data"
    }
   ],
   "source": [
    "plt.plot(val_score)\n",
    "plt.xlabel('number of epochs')\n",
    "plt.ylabel('score metric')\n",
    "plt.title('Score metric on Validation data')\n",
    "plt.savefig('validation_score.jpg')"
   ]
  },
  {
   "cell_type": "code",
   "execution_count": 67,
   "metadata": {},
   "outputs": [
    {
     "data": {
      "image/png": "[encoded data removed]",
      "text/plain": [
       "<Figure size 432x288 with 1 Axes>"
      ]
     },
     "metadata": {
      "needs_background": "light"
     },
     "output_type": "display_data"
    }
   ],
   "source": [
    "plt.plot(val_loss)\n",
    "plt.xlabel('number of epochs')\n",
    "plt.ylabel('mse loss')\n",
    "plt.title('MSE Loss on Validation data')\n",
    "plt.savefig('validation_loss.jpg')"
   ]
  },
  {
   "cell_type": "markdown",
   "metadata": {},
   "source": [
    "# Individual Results with test data"
   ]
  },
  {
   "cell_type": "code",
   "execution_count": 5,
   "metadata": {},
   "outputs": [],
   "source": [
    "#model = load_model('Model_epoch_7.h5', custom_objects={'scoreCalculation': scoreCalculation})  #Presaved model for num_epochs=7"
   ]
  },
  {
   "cell_type": "code",
   "execution_count": 6,
   "metadata": {},
   "outputs": [],
   "source": [
    "input_test = 'data/input_test_set.npy'\n",
    "label_test = 'data/label_test_set.npy'"
   ]
  },
  {
   "cell_type": "code",
   "execution_count": 9,
   "metadata": {},
   "outputs": [],
   "source": [
    "x_test,y_test = load_data(input_test,label_test)"
   ]
  },
  {
   "cell_type": "code",
   "execution_count": 12,
   "metadata": {},
   "outputs": [],
   "source": [
    "#with open('data/date.txt','r') as f:\n",
    "#    date_text = f.read()\n",
    "#date_text = date_text.split('\\n')"
   ]
  },
  {
   "cell_type": "code",
   "execution_count": 19,
   "metadata": {},
   "outputs": [],
   "source": [
    "date_train = 'data/date_training.npy'\n",
    "date_test = 'data/date_test_set.npy'\n",
    "\n",
    "train_date = np.load(date_train)\n",
    "test_date = np.load(date_test)"
   ]
  },
  {
   "cell_type": "code",
   "execution_count": 20,
   "metadata": {},
   "outputs": [
    {
     "name": "stdout",
     "output_type": "stream",
     "text": [
      "1/1 [==============================] - 0s 252ms/step\n",
      "1/1 [==============================] - 0s 245ms/step\n",
      "1/1 [==============================] - 0s 234ms/step\n",
      "1/1 [==============================] - 0s 235ms/step\n",
      "1/1 [==============================] - 0s 234ms/step\n",
      "1/1 [==============================] - 0s 244ms/step\n",
      "1/1 [==============================] - 0s 242ms/step\n",
      "1/1 [==============================] - 0s 248ms/step\n",
      "1/1 [==============================] - 0s 247ms/step\n",
      "1/1 [==============================] - 0s 236ms/step\n",
      "1/1 [==============================] - 0s 261ms/step\n",
      "1/1 [==============================] - 0s 241ms/step\n",
      "1/1 [==============================] - 0s 248ms/step\n",
      "1/1 [==============================] - 0s 264ms/step\n",
      "1/1 [==============================] - 0s 253ms/step\n",
      "1/1 [==============================] - 0s 262ms/step\n",
      "1/1 [==============================] - 0s 251ms/step\n",
      "1/1 [==============================] - 0s 235ms/step\n",
      "1/1 [==============================] - 0s 233ms/step\n",
      "1/1 [==============================] - 0s 266ms/step\n",
      "1/1 [==============================] - 0s 237ms/step\n",
      "1/1 [==============================] - 0s 248ms/step\n",
      "1/1 [==============================] - 0s 268ms/step\n",
      "1/1 [==============================] - 0s 234ms/step\n",
      "1/1 [==============================] - 0s 264ms/step\n",
      "1/1 [==============================] - 0s 251ms/step\n",
      "1/1 [==============================] - 0s 233ms/step\n",
      "1/1 [==============================] - 0s 234ms/step\n",
      "1/1 [==============================] - 0s 249ms/step\n",
      "1/1 [==============================] - 0s 285ms/step\n",
      "1/1 [==============================] - 0s 236ms/step\n",
      "1/1 [==============================] - 0s 264ms/step\n",
      "1/1 [==============================] - 0s 265ms/step\n",
      "1/1 [==============================] - 0s 269ms/step\n",
      "1/1 [==============================] - 0s 234ms/step\n",
      "1/1 [==============================] - 0s 233ms/step\n",
      "1/1 [==============================] - 0s 234ms/step\n",
      "1/1 [==============================] - 0s 249ms/step\n",
      "1/1 [==============================] - 0s 282ms/step\n",
      "1/1 [==============================] - 0s 240ms/step\n",
      "1/1 [==============================] - 0s 247ms/step\n",
      "1/1 [==============================] - 0s 249ms/step\n",
      "1/1 [==============================] - 0s 250ms/step\n",
      "1/1 [==============================] - 0s 250ms/step\n",
      "1/1 [==============================] - 0s 234ms/step\n",
      "1/1 [==============================] - 0s 271ms/step\n",
      "1/1 [==============================] - 0s 246ms/step\n",
      "1/1 [==============================] - 0s 249ms/step\n",
      "1/1 [==============================] - 0s 238ms/step\n",
      "1/1 [==============================] - 0s 280ms/step\n",
      "1/1 [==============================] - 0s 235ms/step\n",
      "1/1 [==============================] - 0s 247ms/step\n",
      "1/1 [==============================] - 0s 250ms/step\n",
      "1/1 [==============================] - 0s 268ms/step\n",
      "1/1 [==============================] - 0s 251ms/step\n",
      "1/1 [==============================] - 0s 246ms/step\n",
      "1/1 [==============================] - 0s 253ms/step\n",
      "1/1 [==============================] - 0s 234ms/step\n",
      "1/1 [==============================] - 0s 247ms/step\n",
      "1/1 [==============================] - 0s 267ms/step\n",
      "1/1 [==============================] - 0s 235ms/step\n",
      "1/1 [==============================] - 0s 249ms/step\n",
      "1/1 [==============================] - 0s 251ms/step\n",
      "1/1 [==============================] - 0s 264ms/step\n",
      "1/1 [==============================] - 0s 276ms/step\n",
      "1/1 [==============================] - 0s 245ms/step\n",
      "1/1 [==============================] - 0s 248ms/step\n",
      "1/1 [==============================] - 0s 269ms/step\n",
      "1/1 [==============================] - 0s 248ms/step\n",
      "1/1 [==============================] - 0s 233ms/step\n",
      "1/1 [==============================] - 0s 225ms/step\n",
      "1/1 [==============================] - 0s 247ms/step\n",
      "1/1 [==============================] - 0s 252ms/step\n",
      "1/1 [==============================] - 0s 262ms/step\n",
      "1/1 [==============================] - 0s 268ms/step\n",
      "1/1 [==============================] - 0s 282ms/step\n",
      "1/1 [==============================] - 0s 268ms/step\n",
      "1/1 [==============================] - 0s 266ms/step\n",
      "1/1 [==============================] - 0s 248ms/step\n",
      "1/1 [==============================] - 0s 285ms/step\n",
      "1/1 [==============================] - 0s 268ms/step\n",
      "1/1 [==============================] - 0s 282ms/step\n",
      "1/1 [==============================] - 0s 250ms/step\n",
      "1/1 [==============================] - 0s 285ms/step\n",
      "1/1 [==============================] - 0s 268ms/step\n",
      "1/1 [==============================] - 0s 282ms/step\n",
      "1/1 [==============================] - 0s 268ms/step\n",
      "1/1 [==============================] - 0s 283ms/step\n",
      "1/1 [==============================] - 0s 267ms/step\n",
      "1/1 [==============================] - 0s 268ms/step\n",
      "1/1 [==============================] - 0s 282ms/step\n",
      "1/1 [==============================] - 0s 268ms/step\n",
      "1/1 [==============================] - 0s 250ms/step\n",
      "1/1 [==============================] - 0s 268ms/step\n",
      "1/1 [==============================] - 0s 282ms/step\n",
      "1/1 [==============================] - 0s 268ms/step\n",
      "1/1 [==============================] - 0s 249ms/step\n",
      "1/1 [==============================] - 0s 269ms/step\n",
      "1/1 [==============================] - 0s 282ms/step\n",
      "1/1 [==============================] - 0s 268ms/step\n",
      "1/1 [==============================] - 0s 267ms/step\n",
      "1/1 [==============================] - 0s 300ms/step\n",
      "1/1 [==============================] - 0s 283ms/step\n",
      "1/1 [==============================] - 0s 267ms/step\n",
      "1/1 [==============================] - 0s 252ms/step\n",
      "1/1 [==============================] - 0s 283ms/step\n",
      "1/1 [==============================] - 0s 303ms/step\n",
      "1/1 [==============================] - 0s 264ms/step\n",
      "1/1 [==============================] - 0s 274ms/step\n",
      "1/1 [==============================] - 0s 276ms/step\n",
      "1/1 [==============================] - 0s 284ms/step\n",
      "1/1 [==============================] - 0s 268ms/step\n",
      "1/1 [==============================] - 0s 282ms/step\n",
      "1/1 [==============================] - 0s 281ms/step\n",
      "1/1 [==============================] - 0s 251ms/step\n",
      "1/1 [==============================] - 0s 252ms/step\n",
      "1/1 [==============================] - 0s 249ms/step\n",
      "1/1 [==============================] - 0s 250ms/step\n",
      "1/1 [==============================] - 0s 239ms/step\n",
      "1/1 [==============================] - 0s 279ms/step\n",
      "1/1 [==============================] - 0s 264ms/step\n",
      "1/1 [==============================] - 0s 251ms/step\n",
      "1/1 [==============================] - 0s 250ms/step\n",
      "1/1 [==============================] - 0s 252ms/step\n",
      "1/1 [==============================] - 0s 265ms/step\n",
      "1/1 [==============================] - 0s 268ms/step\n",
      "1/1 [==============================] - 0s 267ms/step\n",
      "1/1 [==============================] - 0s 268ms/step\n",
      "1/1 [==============================] - 0s 280ms/step\n",
      "1/1 [==============================] - 0s 268ms/step\n",
      "1/1 [==============================] - 0s 266ms/step\n",
      "1/1 [==============================] - 0s 268ms/step\n",
      "1/1 [==============================] - 0s 282ms/step\n",
      "1/1 [==============================] - 0s 268ms/step\n",
      "1/1 [==============================] - 0s 250ms/step\n",
      "1/1 [==============================] - 0s 250ms/step\n",
      "1/1 [==============================] - 0s 268ms/step\n",
      "1/1 [==============================] - 0s 250ms/step\n",
      "1/1 [==============================] - 0s 268ms/step\n",
      "1/1 [==============================] - 0s 283ms/step\n",
      "1/1 [==============================] - 0s 267ms/step\n",
      "1/1 [==============================] - 0s 267ms/step\n",
      "1/1 [==============================] - 0s 284ms/step\n",
      "1/1 [==============================] - 0s 282ms/step\n",
      "1/1 [==============================] - 0s 268ms/step\n",
      "1/1 [==============================] - 0s 272ms/step\n",
      "1/1 [==============================] - 0s 278ms/step\n",
      "1/1 [==============================] - 0s 251ms/step\n",
      "1/1 [==============================] - 0s 284ms/step\n",
      "1/1 [==============================] - 0s 283ms/step\n",
      "1/1 [==============================] - 0s 267ms/step\n",
      "1/1 [==============================] - 0s 250ms/step\n",
      "1/1 [==============================] - 0s 268ms/step\n",
      "1/1 [==============================] - 0s 268ms/step\n",
      "1/1 [==============================] - 0s 288ms/step\n"
     ]
    },
    {
     "name": "stdout",
     "output_type": "stream",
     "text": [
      "1/1 [==============================] - 0s 276ms/step\n",
      "1/1 [==============================] - 0s 480ms/step\n",
      "1/1 [==============================] - 0s 280ms/step\n",
      "1/1 [==============================] - 0s 235ms/step\n",
      "1/1 [==============================] - 0s 232ms/step\n",
      "1/1 [==============================] - 0s 232ms/step\n",
      "1/1 [==============================] - 0s 233ms/step\n",
      "1/1 [==============================] - 0s 250ms/step\n",
      "1/1 [==============================] - 0s 254ms/step\n",
      "1/1 [==============================] - 0s 267ms/step\n",
      "1/1 [==============================] - 0s 266ms/step\n",
      "1/1 [==============================] - 0s 265ms/step\n",
      "1/1 [==============================] - 0s 281ms/step\n",
      "1/1 [==============================] - 0s 235ms/step\n",
      "1/1 [==============================] - 0s 248ms/step\n",
      "1/1 [==============================] - 0s 253ms/step\n",
      "1/1 [==============================] - 0s 219ms/step\n",
      "1/1 [==============================] - 0s 246ms/step\n",
      "1/1 [==============================] - 0s 220ms/step\n",
      "1/1 [==============================] - 0s 232ms/step\n",
      "1/1 [==============================] - 0s 233ms/step\n",
      "1/1 [==============================] - 0s 250ms/step\n",
      "1/1 [==============================] - 0s 234ms/step\n",
      "1/1 [==============================] - 0s 250ms/step\n",
      "1/1 [==============================] - 0s 269ms/step\n",
      "1/1 [==============================] - 0s 236ms/step\n",
      "1/1 [==============================] - 0s 247ms/step\n",
      "1/1 [==============================] - 0s 248ms/step\n",
      "1/1 [==============================] - 0s 266ms/step\n",
      "1/1 [==============================] - 0s 266ms/step\n",
      "1/1 [==============================] - 0s 239ms/step\n",
      "1/1 [==============================] - 0s 231ms/step\n",
      "1/1 [==============================] - 0s 248ms/step\n",
      "1/1 [==============================] - 0s 250ms/step\n",
      "1/1 [==============================] - 0s 234ms/step\n",
      "1/1 [==============================] - 0s 232ms/step\n",
      "1/1 [==============================] - 0s 233ms/step\n",
      "1/1 [==============================] - 0s 250ms/step\n",
      "1/1 [==============================] - 0s 281ms/step\n",
      "1/1 [==============================] - 0s 238ms/step\n",
      "1/1 [==============================] - 0s 264ms/step\n",
      "1/1 [==============================] - 0s 235ms/step\n",
      "1/1 [==============================] - 0s 250ms/step\n",
      "1/1 [==============================] - 0s 234ms/step\n",
      "1/1 [==============================] - 0s 249ms/step\n",
      "1/1 [==============================] - 0s 267ms/step\n",
      "1/1 [==============================] - 0s 239ms/step\n",
      "1/1 [==============================] - 0s 280ms/step\n",
      "1/1 [==============================] - 0s 250ms/step\n",
      "1/1 [==============================] - 0s 234ms/step\n",
      "1/1 [==============================] - 0s 235ms/step\n",
      "1/1 [==============================] - 0s 233ms/step\n",
      "1/1 [==============================] - 0s 284ms/step\n",
      "1/1 [==============================] - 0s 249ms/step\n",
      "1/1 [==============================] - 0s 250ms/step\n",
      "1/1 [==============================] - 0s 250ms/step\n",
      "1/1 [==============================] - 0s 265ms/step\n",
      "1/1 [==============================] - 0s 236ms/step\n",
      "1/1 [==============================] - 0s 234ms/step\n",
      "1/1 [==============================] - 0s 248ms/step\n",
      "1/1 [==============================] - 0s 266ms/step\n",
      "1/1 [==============================] - 0s 251ms/step\n",
      "1/1 [==============================] - 0s 266ms/step\n",
      "1/1 [==============================] - 0s 240ms/step\n",
      "1/1 [==============================] - 0s 229ms/step\n",
      "1/1 [==============================] - 0s 235ms/step\n",
      "1/1 [==============================] - 0s 280ms/step\n",
      "1/1 [==============================] - 0s 239ms/step\n",
      "1/1 [==============================] - 0s 250ms/step\n",
      "1/1 [==============================] - 0s 247ms/step\n",
      "1/1 [==============================] - 0s 267ms/step\n",
      "1/1 [==============================] - 0s 265ms/step\n",
      "1/1 [==============================] - 0s 252ms/step\n",
      "1/1 [==============================] - 0s 250ms/step\n",
      "1/1 [==============================] - 0s 234ms/step\n",
      "1/1 [==============================] - 0s 235ms/step\n",
      "1/1 [==============================] - 0s 248ms/step\n",
      "1/1 [==============================] - 0s 266ms/step\n",
      "1/1 [==============================] - 0s 267ms/step\n",
      "1/1 [==============================] - 0s 270ms/step\n",
      "1/1 [==============================] - 0s 266ms/step\n",
      "1/1 [==============================] - 0s 267ms/step\n",
      "1/1 [==============================] - 0s 250ms/step\n",
      "1/1 [==============================] - 0s 251ms/step\n",
      "1/1 [==============================] - 0s 266ms/step\n",
      "1/1 [==============================] - 0s 268ms/step\n",
      "1/1 [==============================] - 0s 266ms/step\n",
      "1/1 [==============================] - 0s 267ms/step\n",
      "1/1 [==============================] - 0s 267ms/step\n",
      "1/1 [==============================] - 0s 250ms/step\n",
      "1/1 [==============================] - 0s 268ms/step\n",
      "1/1 [==============================] - 0s 282ms/step\n",
      "1/1 [==============================] - 0s 267ms/step\n"
     ]
    }
   ],
   "source": [
    "test_history=[]\n",
    "for i in range(len(x_test)):\n",
    "    hist=model.evaluate(x_test[i].reshape((1,256,256,15)),y_test[i].reshape((1,256,256,1)))\n",
    "    test_history.append(hist)"
   ]
  },
  {
   "cell_type": "code",
   "execution_count": 21,
   "metadata": {},
   "outputs": [],
   "source": [
    "test_loss=[]\n",
    "test_score=[]\n",
    "for i in test_history:\n",
    "    test_loss.append(i[0])\n",
    "    test_score.append(i[1])"
   ]
  },
  {
   "cell_type": "code",
   "execution_count": 22,
   "metadata": {},
   "outputs": [
    {
     "data": {
      "image/png": "[encoded data removed]",
      "text/plain": [
       "<Figure size 432x288 with 1 Axes>"
      ]
     },
     "metadata": {
      "needs_background": "light"
     },
     "output_type": "display_data"
    }
   ],
   "source": [
    "plt.plot(test_score)\n",
    "plt.xlabel('each date and time of test set')\n",
    "plt.ylabel('score metric')\n",
    "plt.title('Score metric for each date and time of test set')\n",
    "plt.savefig('test_score_for_each_record.jpg')"
   ]
  },
  {
   "cell_type": "code",
   "execution_count": 23,
   "metadata": {},
   "outputs": [
    {
     "data": {
      "image/png": "[encoded data removed]",
      "text/plain": [
       "<Figure size 432x288 with 1 Axes>"
      ]
     },
     "metadata": {
      "needs_background": "light"
     },
     "output_type": "display_data"
    }
   ],
   "source": [
    "plt.plot(test_loss)\n",
    "plt.xlabel('each date and time of test set')\n",
    "plt.ylabel('mse loss')\n",
    "plt.title('MSE Loss for each date and time of test set')\n",
    "plt.savefig('test_loss_for_each_record.jpg')"
   ]
  },
  {
   "cell_type": "code",
   "execution_count": 24,
   "metadata": {},
   "outputs": [],
   "source": [
    "test_results=pd.DataFrame()\n",
    "test_results['DateTime']=[i.decode('ascii') for i in test_date]\n",
    "test_results['loss']=test_loss\n",
    "test_results['score']=test_score"
   ]
  },
  {
   "cell_type": "markdown",
   "metadata": {},
   "source": [
    "# Average Results"
   ]
  },
  {
   "cell_type": "code",
   "execution_count": 25,
   "metadata": {},
   "outputs": [
    {
     "data": {
      "text/html": [
       "<div>\n",
       "<style scoped>\n",
       "    .dataframe tbody tr th:only-of-type {\n",
       "        vertical-align: middle;\n",
       "    }\n",
       "\n",
       "    .dataframe tbody tr th {\n",
       "        vertical-align: top;\n",
       "    }\n",
       "\n",
       "    .dataframe thead th {\n",
       "        text-align: right;\n",
       "    }\n",
       "</style>\n",
       "<table border=\"1\" class=\"dataframe\">\n",
       "  <thead>\n",
       "    <tr style=\"text-align: right;\">\n",
       "      <th></th>\n",
       "      <th>loss</th>\n",
       "      <th>score</th>\n",
       "    </tr>\n",
       "  </thead>\n",
       "  <tbody>\n",
       "    <tr>\n",
       "      <th>count</th>\n",
       "      <td>248.000000</td>\n",
       "      <td>248.000000</td>\n",
       "    </tr>\n",
       "    <tr>\n",
       "      <th>mean</th>\n",
       "      <td>0.806500</td>\n",
       "      <td>5.001534</td>\n",
       "    </tr>\n",
       "    <tr>\n",
       "      <th>std</th>\n",
       "      <td>0.626931</td>\n",
       "      <td>1.545484</td>\n",
       "    </tr>\n",
       "    <tr>\n",
       "      <th>min</th>\n",
       "      <td>0.043003</td>\n",
       "      <td>2.385495</td>\n",
       "    </tr>\n",
       "    <tr>\n",
       "      <th>25%</th>\n",
       "      <td>0.346850</td>\n",
       "      <td>3.940689</td>\n",
       "    </tr>\n",
       "    <tr>\n",
       "      <th>50%</th>\n",
       "      <td>0.648364</td>\n",
       "      <td>4.857776</td>\n",
       "    </tr>\n",
       "    <tr>\n",
       "      <th>75%</th>\n",
       "      <td>1.062439</td>\n",
       "      <td>5.815931</td>\n",
       "    </tr>\n",
       "    <tr>\n",
       "      <th>max</th>\n",
       "      <td>2.892654</td>\n",
       "      <td>9.489738</td>\n",
       "    </tr>\n",
       "  </tbody>\n",
       "</table>\n",
       "</div>"
      ],
      "text/plain": [
       "             loss       score\n",
       "count  248.000000  248.000000\n",
       "mean     0.806500    5.001534\n",
       "std      0.626931    1.545484\n",
       "min      0.043003    2.385495\n",
       "25%      0.346850    3.940689\n",
       "50%      0.648364    4.857776\n",
       "75%      1.062439    5.815931\n",
       "max      2.892654    9.489738"
      ]
     },
     "execution_count": 25,
     "metadata": {},
     "output_type": "execute_result"
    }
   ],
   "source": [
    "test_results.describe()"
   ]
  },
  {
   "cell_type": "markdown",
   "metadata": {},
   "source": [
    "It can be seen from test_results.describe() that mean of loss and score are as follows:\n",
    "\n",
    "average_loss=0.806500\n",
    "\n",
    "average_score=5.001534"
   ]
  },
  {
   "cell_type": "code",
   "execution_count": 18,
   "metadata": {},
   "outputs": [
    {
     "data": {
      "text/html": [
       "<div>\n",
       "<style scoped>\n",
       "    .dataframe tbody tr th:only-of-type {\n",
       "        vertical-align: middle;\n",
       "    }\n",
       "\n",
       "    .dataframe tbody tr th {\n",
       "        vertical-align: top;\n",
       "    }\n",
       "\n",
       "    .dataframe thead th {\n",
       "        text-align: right;\n",
       "    }\n",
       "</style>\n",
       "<table border=\"1\" class=\"dataframe\">\n",
       "  <thead>\n",
       "    <tr style=\"text-align: right;\">\n",
       "      <th></th>\n",
       "      <th>DateTime</th>\n",
       "      <th>loss</th>\n",
       "      <th>score</th>\n",
       "    </tr>\n",
       "  </thead>\n",
       "  <tbody>\n",
       "    <tr>\n",
       "      <th>0</th>\n",
       "      <td>2018011612</td>\n",
       "      <td>1.125401</td>\n",
       "      <td>6.509701</td>\n",
       "    </tr>\n",
       "    <tr>\n",
       "      <th>1</th>\n",
       "      <td>2018011615</td>\n",
       "      <td>1.139553</td>\n",
       "      <td>6.571133</td>\n",
       "    </tr>\n",
       "    <tr>\n",
       "      <th>2</th>\n",
       "      <td>2018011618</td>\n",
       "      <td>0.676640</td>\n",
       "      <td>5.577474</td>\n",
       "    </tr>\n",
       "    <tr>\n",
       "      <th>3</th>\n",
       "      <td>2018011621</td>\n",
       "      <td>0.336074</td>\n",
       "      <td>4.362339</td>\n",
       "    </tr>\n",
       "    <tr>\n",
       "      <th>4</th>\n",
       "      <td>2018011700</td>\n",
       "      <td>0.421846</td>\n",
       "      <td>4.661493</td>\n",
       "    </tr>\n",
       "  </tbody>\n",
       "</table>\n",
       "</div>"
      ],
      "text/plain": [
       "     DateTime      loss     score\n",
       "0  2018011612  1.125401  6.509701\n",
       "1  2018011615  1.139553  6.571133\n",
       "2  2018011618  0.676640  5.577474\n",
       "3  2018011621  0.336074  4.362339\n",
       "4  2018011700  0.421846  4.661493"
      ]
     },
     "execution_count": 18,
     "metadata": {},
     "output_type": "execute_result"
    }
   ],
   "source": [
    "test_results.head()"
   ]
  },
  {
   "cell_type": "code",
   "execution_count": 39,
   "metadata": {},
   "outputs": [],
   "source": [
    "test_results.to_csv('test_results.csv',index=False)"
   ]
  }
 ],
 "metadata": {
  "kernelspec": {
   "display_name": "Python 3",
   "language": "python",
   "name": "python3"
  },
  "language_info": {
   "codemirror_mode": {
    "name": "ipython",
    "version": 3
   },
   "file_extension": ".py",
   "mimetype": "text/x-python",
   "name": "python",
   "nbconvert_exporter": "python",
   "pygments_lexer": "ipython3",
   "version": "3.7.0"
  }
 },
 "nbformat": 4,
 "nbformat_minor": 2
}
